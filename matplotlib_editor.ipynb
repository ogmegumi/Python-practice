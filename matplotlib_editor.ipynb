{
  "nbformat": 4,
  "nbformat_minor": 0,
  "metadata": {
    "kernelspec": {
      "display_name": "Python 3",
      "language": "python",
      "name": "python3"
    },
    "language_info": {
      "codemirror_mode": {
        "name": "ipython",
        "version": 3
      },
      "file_extension": ".py",
      "mimetype": "text/x-python",
      "name": "python",
      "nbconvert_exporter": "python",
      "pygments_lexer": "ipython3",
      "version": "3.6.7"
    },
    "colab": {
      "name": "matplotlib_editor.ipynb",
      "provenance": [],
      "include_colab_link": true
    }
  },
  "cells": [
    {
      "cell_type": "markdown",
      "metadata": {
        "id": "view-in-github",
        "colab_type": "text"
      },
      "source": [
        "<a href=\"https://colab.research.google.com/github/ogmegumi/Python-practice/blob/main/matplotlib_editor.ipynb\" target=\"_parent\"><img src=\"https://colab.research.google.com/assets/colab-badge.svg\" alt=\"Open In Colab\"/></a>"
      ]
    },
    {
      "cell_type": "markdown",
      "metadata": {
        "id": "fbsJCk4B4_1O"
      },
      "source": [
        "# Matplotlib練習問題\n",
        "\n",
        " 1. 基本的なグラフの描画方法について学習します。（7問）\n",
        " 2. グラフの色や凡例・軸の編集の方法について学習します。（8問）\n",
        " 3. グラフの外観の設定方法について学習します。（5問）"
      ]
    },
    {
      "cell_type": "markdown",
      "metadata": {
        "id": "jit_jTzp4_1W"
      },
      "source": [
        "### 0. 事前準備"
      ]
    },
    {
      "cell_type": "markdown",
      "metadata": {
        "id": "-BwsK19n4_1X"
      },
      "source": [
        "#### 0.1 「matplotlib.pyplotをpltという名前でインポートしこのnotebook上に図が表示されるようにして下さい。」"
      ]
    },
    {
      "cell_type": "code",
      "metadata": {
        "collapsed": true,
        "id": "fExsBVQN4_1X"
      },
      "source": [
        "import matplotlib.pyplot as plt\n",
        "%matplotlib inline\n",
        "#フォントで警告が出る\n",
        "import warnings\n",
        "warnings.simplefilter('ignore')"
      ],
      "execution_count": 1,
      "outputs": []
    },
    {
      "cell_type": "markdown",
      "metadata": {
        "id": "eCBB6DSJ4_1X"
      },
      "source": [
        "#### 0.2 「以下のコードを実行してください。」"
      ]
    },
    {
      "cell_type": "code",
      "metadata": {
        "collapsed": true,
        "id": "6uibyd404_1Y"
      },
      "source": [
        "import numpy as np\n",
        "import pandas as pd\n",
        "data = pd.DataFrame()\n",
        "np.random.seed(0)\n",
        "data['身長'] = np.random.normal(170, 5, 100)\n",
        "data['クラス'] = ['a', 'b', 'c', 'd'] * 25\n",
        "data['成績'] = [ 2, 5, 4, 1, 4, 3, 4, 2, 4, 5] * 10\n",
        "data['体重'] = np.random.normal(60, 3, 100)"
      ],
      "execution_count": 2,
      "outputs": []
    },
    {
      "cell_type": "markdown",
      "metadata": {
        "id": "2VGOWfUK4_1Y"
      },
      "source": [
        "### 1. 基本的なグラフの描画方法について学習します。（7問）"
      ]
    },
    {
      "cell_type": "markdown",
      "metadata": {
        "id": "aHelhcse4_1Y"
      },
      "source": [
        "#### 1.1 「dataの中身を表示してください。」"
      ]
    },
    {
      "cell_type": "code",
      "metadata": {
        "colab": {
          "base_uri": "https://localhost:8080/",
          "height": 204
        },
        "id": "FxK4Zr7e4_1Z",
        "outputId": "b769f383-0c41-43f5-9ee9-14fe065e68b9"
      },
      "source": [
        "data.head()"
      ],
      "execution_count": 4,
      "outputs": [
        {
          "output_type": "execute_result",
          "data": {
            "text/html": [
              "<div>\n",
              "<style scoped>\n",
              "    .dataframe tbody tr th:only-of-type {\n",
              "        vertical-align: middle;\n",
              "    }\n",
              "\n",
              "    .dataframe tbody tr th {\n",
              "        vertical-align: top;\n",
              "    }\n",
              "\n",
              "    .dataframe thead th {\n",
              "        text-align: right;\n",
              "    }\n",
              "</style>\n",
              "<table border=\"1\" class=\"dataframe\">\n",
              "  <thead>\n",
              "    <tr style=\"text-align: right;\">\n",
              "      <th></th>\n",
              "      <th>身長</th>\n",
              "      <th>クラス</th>\n",
              "      <th>成績</th>\n",
              "      <th>体重</th>\n",
              "    </tr>\n",
              "  </thead>\n",
              "  <tbody>\n",
              "    <tr>\n",
              "      <th>0</th>\n",
              "      <td>178.820262</td>\n",
              "      <td>a</td>\n",
              "      <td>2</td>\n",
              "      <td>65.649452</td>\n",
              "    </tr>\n",
              "    <tr>\n",
              "      <th>1</th>\n",
              "      <td>172.000786</td>\n",
              "      <td>b</td>\n",
              "      <td>5</td>\n",
              "      <td>55.956723</td>\n",
              "    </tr>\n",
              "    <tr>\n",
              "      <th>2</th>\n",
              "      <td>174.893690</td>\n",
              "      <td>c</td>\n",
              "      <td>4</td>\n",
              "      <td>56.188545</td>\n",
              "    </tr>\n",
              "    <tr>\n",
              "      <th>3</th>\n",
              "      <td>181.204466</td>\n",
              "      <td>d</td>\n",
              "      <td>1</td>\n",
              "      <td>62.908190</td>\n",
              "    </tr>\n",
              "    <tr>\n",
              "      <th>4</th>\n",
              "      <td>179.337790</td>\n",
              "      <td>a</td>\n",
              "      <td>4</td>\n",
              "      <td>56.480630</td>\n",
              "    </tr>\n",
              "  </tbody>\n",
              "</table>\n",
              "</div>"
            ],
            "text/plain": [
              "           身長 クラス  成績         体重\n",
              "0  178.820262   a   2  65.649452\n",
              "1  172.000786   b   5  55.956723\n",
              "2  174.893690   c   4  56.188545\n",
              "3  181.204466   d   1  62.908190\n",
              "4  179.337790   a   4  56.480630"
            ]
          },
          "metadata": {},
          "execution_count": 4
        }
      ]
    },
    {
      "cell_type": "markdown",
      "metadata": {
        "id": "T1VPiQEX4_1a"
      },
      "source": [
        "#### 1.2 「data内の身長のヒストグラムをデフォルト設定で描画して下さい。」"
      ]
    },
    {
      "cell_type": "code",
      "metadata": {
        "colab": {
          "base_uri": "https://localhost:8080/",
          "height": 265
        },
        "id": "s8LLu1IK4_1b",
        "outputId": "c5cc3656-ed49-4fee-ce35-a99a5c81c732"
      },
      "source": [
        "fig = plt.figure()\n",
        "ax = fig.add_subplot(1,1,1)\n",
        "ax.hist(data[\"身長\"])\n",
        "plt.show()"
      ],
      "execution_count": 8,
      "outputs": [
        {
          "output_type": "display_data",
          "data": {
            "image/png": "[encoded data removed]",
            "text/plain": [
              "<Figure size 432x288 with 1 Axes>"
            ]
          },
          "metadata": {
            "needs_background": "light"
          }
        }
      ]
    },
    {
      "cell_type": "markdown",
      "metadata": {
        "id": "kl0eler_4_1d"
      },
      "source": [
        "#### 1.3 「data内の体重の折れ線グラフをデフォルト設定で描画して下さい。」"
      ]
    },
    {
      "cell_type": "code",
      "metadata": {
        "colab": {
          "base_uri": "https://localhost:8080/",
          "height": 265
        },
        "id": "6G-i-kcZ4_1d",
        "outputId": "eb5485e7-5a40-44e5-89ed-9f5c7e7a1ffe"
      },
      "source": [
        "fig = plt.figure()\n",
        "ax = fig.add_subplot(1,1,1) #axにfigureを設定\n",
        "ax.plot(data[\"体重\"])\n",
        "plt.show()"
      ],
      "execution_count": 9,
      "outputs": [
        {
          "output_type": "display_data",
          "data": {
            "image/png": "[encoded data removed]",
            "text/plain": [
              "<Figure size 432x288 with 1 Axes>"
            ]
          },
          "metadata": {
            "needs_background": "light"
          }
        }
      ]
    },
    {
      "cell_type": "markdown",
      "metadata": {
        "id": "Fht6zCsQ4_1e"
      },
      "source": [
        "#### 1.4 「data内の身長と体重の散布図をデフォルト設定で描画して下さい。」"
      ]
    },
    {
      "cell_type": "code",
      "metadata": {
        "colab": {
          "base_uri": "https://localhost:8080/",
          "height": 265
        },
        "id": "W3Xf7O8h4_1e",
        "outputId": "a1ba1772-bd47-47db-c7a2-dcba354930ea"
      },
      "source": [
        "fig = plt.figure() #figureを生成\n",
        "ax = fig.add_subplot(1,1,1)\n",
        "ax.scatter(data[\"身長\"],data[\"体重\"])\n",
        "plt.show()"
      ],
      "execution_count": 13,
      "outputs": [
        {
          "output_type": "display_data",
          "data": {
            "image/png": "[encoded data removed]",
            "text/plain": [
              "<Figure size 432x288 with 1 Axes>"
            ]
          },
          "metadata": {
            "needs_background": "light"
          }
        }
      ]
    },
    {
      "cell_type": "markdown",
      "metadata": {
        "id": "lDcCXqF24_1e"
      },
      "source": [
        "#### 1.5 「散布図に回帰直線を追加してください。」"
      ]
    },
    {
      "cell_type": "code",
      "metadata": {
        "colab": {
          "base_uri": "https://localhost:8080/",
          "height": 265
        },
        "id": "60rSgy4S4_1e",
        "outputId": "566d622d-84b8-47ef-9ed1-164d8c3a6527"
      },
      "source": [
        "fig = plt.figure() #figureを生成\n",
        "ax = fig.add_subplot(1,1,1)\n",
        "ax.scatter(data[\"身長\"],data[\"体重\"])\n",
        "x, y = np.polyfit(data['身長'], data['体重'] ,1) \n",
        "# plt.plot(data[\"身長\"], data[\"体重\"])\n",
        "ax.plot(data['身長'], m*data['身長'] + y)\n",
        "plt.show()"
      ],
      "execution_count": 30,
      "outputs": [
        {
          "output_type": "display_data",
          "data": {
            "image/png": "[encoded data removed]",
            "text/plain": [
              "<Figure size 432x288 with 1 Axes>"
            ]
          },
          "metadata": {
            "needs_background": "light"
          }
        }
      ]
    },
    {
      "cell_type": "markdown",
      "metadata": {
        "id": "LVw4Sb114_1e"
      },
      "source": [
        "#### 1.6 「グラフに「Regression-line」というタイトルを付けてください。」"
      ]
    },
    {
      "cell_type": "code",
      "metadata": {
        "colab": {
          "base_uri": "https://localhost:8080/",
          "height": 281
        },
        "id": "0mgrJ-td4_1e",
        "outputId": "c0e00408-4269-40f5-e9e3-5df2d398018e"
      },
      "source": [
        "fig = plt.figure()\n",
        "ax = fig.add_subplot(1,1,1)\n",
        "ax.scatter(data['身長'], data['体重'])\n",
        "x, y = np.polyfit(data['身長'], data['体重'] ,1) \n",
        "ax.plot(data['身長'], m*data['身長'] + y)\n",
        "plt.title('Regression-line')\n",
        "plt.show()"
      ],
      "execution_count": 29,
      "outputs": [
        {
          "output_type": "display_data",
          "data": {
            "image/png": "[encoded data removed]",
            "text/plain": [
              "<Figure size 432x288 with 1 Axes>"
            ]
          },
          "metadata": {
            "needs_background": "light"
          }
        }
      ]
    },
    {
      "cell_type": "markdown",
      "metadata": {
        "id": "j-D6563M4_1e"
      },
      "source": [
        "#### 1.7 「上記グラフをpng形式で保存して下さい。※作業ディレクトリに格納された、test.pngを確認して下さい。」"
      ]
    },
    {
      "cell_type": "code",
      "metadata": {
        "colab": {
          "base_uri": "https://localhost:8080/",
          "height": 281
        },
        "id": "uidPBG1r4_1e",
        "outputId": "d8dbe75a-3968-49cf-f98e-be3b0ce7bc3b"
      },
      "source": [
        "fig = plt.figure()\n",
        "ax = fig.add_subplot(1,1,1)\n",
        "ax.scatter(data['身長'], data['体重'])\n",
        "x, y = np.polyfit(data['身長'], data['体重'] ,1) \n",
        "ax.plot(data['身長'], m*data['身長'] + y)\n",
        "plt.title('Regression-line')\n",
        "\n",
        "plt.savefig('test.png', bbox_inches='tight')\n"
      ],
      "execution_count": 31,
      "outputs": [
        {
          "output_type": "display_data",
          "data": {
            "image/png": "[encoded data removed]",
            "text/plain": [
              "<Figure size 432x288 with 1 Axes>"
            ]
          },
          "metadata": {
            "needs_background": "light"
          }
        }
      ]
    },
    {
      "cell_type": "markdown",
      "metadata": {
        "id": "tY19dWbm4_1e"
      },
      "source": [
        "### 2. グラフの色や凡例・軸の編集（8問）"
      ]
    },
    {
      "cell_type": "markdown",
      "metadata": {
        "id": "1Q7XcJtM4_1f"
      },
      "source": [
        "#### 2.1 「data内の身長の折れ線グラフを、クラスの値で色分けして一つのグラフに描画して下さい。」"
      ]
    },
    {
      "cell_type": "code",
      "metadata": {
        "id": "rcTFVLfZ4_1f"
      },
      "source": [
        ""
      ],
      "execution_count": null,
      "outputs": []
    },
    {
      "cell_type": "markdown",
      "metadata": {
        "id": "VqlIeLLC4_1f"
      },
      "source": [
        "#### 2.2 「上記のグラフに凡例を右上に作成して下さい。」"
      ]
    },
    {
      "cell_type": "code",
      "metadata": {
        "id": "kLHiNQDp4_1f"
      },
      "source": [
        ""
      ],
      "execution_count": null,
      "outputs": []
    },
    {
      "cell_type": "markdown",
      "metadata": {
        "id": "00-gQhVd4_1f"
      },
      "source": [
        "#### 2.3 「dataの身長のヒストグラムをクラスで色分けして凡例付きで一つのグラフに描画して下さい。」"
      ]
    },
    {
      "cell_type": "code",
      "metadata": {
        "id": "VeSxN2Rh4_1f"
      },
      "source": [
        ""
      ],
      "execution_count": null,
      "outputs": []
    },
    {
      "cell_type": "markdown",
      "metadata": {
        "id": "rpwfB_lK4_1f"
      },
      "source": [
        "#### 2.4 「色が被ってしまっています。透明度を上げてください。(引数は何れの値でも可)」"
      ]
    },
    {
      "cell_type": "code",
      "metadata": {
        "id": "vBtRBz6B4_1f"
      },
      "source": [
        ""
      ],
      "execution_count": null,
      "outputs": []
    },
    {
      "cell_type": "markdown",
      "metadata": {
        "id": "7-KvxKVY4_1f"
      },
      "source": [
        "#### 2.5 「ビンの値を細かくしてください。(引数は何れの値でも可)」"
      ]
    },
    {
      "cell_type": "code",
      "metadata": {
        "id": "9xCj_J1I4_1g"
      },
      "source": [
        ""
      ],
      "execution_count": null,
      "outputs": []
    },
    {
      "cell_type": "markdown",
      "metadata": {
        "id": "cPLcH5HC4_1g"
      },
      "source": [
        "#### 2.6 「data内の身長のヒストグラムを作成して、フォントサイズを20にしてください。」"
      ]
    },
    {
      "cell_type": "code",
      "metadata": {
        "id": "MSm2mizz4_1g"
      },
      "source": [
        ""
      ],
      "execution_count": null,
      "outputs": []
    },
    {
      "cell_type": "markdown",
      "metadata": {
        "id": "KEMuelte4_1g"
      },
      "source": [
        "#### 2.7 「data内の身長のヒストグラムを作成して、x軸とy軸にそれぞれフォントサイズ15で'X', 'Y'と軸ラベルを設定して下さい。」"
      ]
    },
    {
      "cell_type": "code",
      "metadata": {
        "id": "vNj5y_b64_1g"
      },
      "source": [
        ""
      ],
      "execution_count": null,
      "outputs": []
    },
    {
      "cell_type": "markdown",
      "metadata": {
        "id": "Ct7rlNrp4_1g"
      },
      "source": [
        "#### 2.8 「上記のグラフのy軸の範囲を0から30にして下さい。」"
      ]
    },
    {
      "cell_type": "code",
      "metadata": {
        "id": "IzxRNZCc4_1g"
      },
      "source": [
        ""
      ],
      "execution_count": null,
      "outputs": []
    },
    {
      "cell_type": "markdown",
      "metadata": {
        "id": "_xYFdM4_4_1g"
      },
      "source": [
        "### 3. グラフの外観の設定（5問）"
      ]
    },
    {
      "cell_type": "markdown",
      "metadata": {
        "id": "mA3Gt2pA4_1g"
      },
      "source": [
        "#### 3.1 「下記の様なグラフの箱を4つ用意してください。」"
      ]
    },
    {
      "cell_type": "code",
      "metadata": {
        "id": "Q99E4ms24_1g"
      },
      "source": [
        ""
      ],
      "execution_count": null,
      "outputs": []
    },
    {
      "cell_type": "markdown",
      "metadata": {
        "id": "MHMU1ULx4_1g"
      },
      "source": [
        "#### 3.2 「グラフのタイトルを'title'に設定してください。」"
      ]
    },
    {
      "cell_type": "code",
      "metadata": {
        "id": "taViuCTy4_1h"
      },
      "source": [
        ""
      ],
      "execution_count": null,
      "outputs": []
    },
    {
      "cell_type": "markdown",
      "metadata": {
        "id": "IK9va-jJ4_1h"
      },
      "source": [
        "#### 3.3 「各グラフのサブタイトルをそれぞれ、'1','2','3','4'に設定して下さい。」"
      ]
    },
    {
      "cell_type": "code",
      "metadata": {
        "id": "hZ4R-K1K4_1h"
      },
      "source": [
        ""
      ],
      "execution_count": null,
      "outputs": []
    },
    {
      "cell_type": "markdown",
      "metadata": {
        "id": "2jZK2BFD4_1h"
      },
      "source": [
        "#### 3.4 「各グラフ同士が被ってしまっています。余白を縦0.5、横0.5に設定して下さい。」"
      ]
    },
    {
      "cell_type": "code",
      "metadata": {
        "id": "OxYZd1Gd4_1h"
      },
      "source": [
        ""
      ],
      "execution_count": null,
      "outputs": []
    },
    {
      "cell_type": "markdown",
      "metadata": {
        "id": "8soRePf_4_1h"
      },
      "source": [
        "#### 3.5 「上記のグラフに、身長、成績、クラス、体重のヒストグラムを入力してください。」"
      ]
    },
    {
      "cell_type": "code",
      "metadata": {
        "id": "kSBpJWpN4_1h"
      },
      "source": [
        ""
      ],
      "execution_count": null,
      "outputs": []
    }
  ]
}